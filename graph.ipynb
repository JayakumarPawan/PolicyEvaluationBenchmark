{
 "cells": [
  {
   "cell_type": "code",
   "execution_count": 16,
   "metadata": {},
   "outputs": [],
   "source": [
    "import pandas as pd\n",
    "import wandb\n",
    "import numpy as np\n",
    "import matplotlib.pyplot as plt\n",
    "import yaml\n",
    "import csv"
   ]
  },
  {
   "cell_type": "code",
   "execution_count": 17,
   "metadata": {},
   "outputs": [],
   "source": [
    "env_id = 'CartPole-v1'\n",
    "algo = \"ros\""
   ]
  },
  {
   "cell_type": "code",
   "execution_count": 18,
   "metadata": {},
   "outputs": [
    {
     "name": "stdout",
     "output_type": "stream",
     "text": [
      "read csv files\n",
      "read csv files\n"
     ]
    }
   ],
   "source": [
    "env_id = 'CartPole-v1'\n",
    "algo = \"mc\"\n",
    "# Import data from CSV file\n",
    "mc_mse = pd.read_csv(f'results/{env_id}/{algo}/mse.csv')\n",
    "mc_norm_err = pd.read_csv(f'results/{env_id}/{algo}/norm_err.csv')\n",
    "print(\"read csv files\")\n",
    "algo = \"ros\"\n",
    "\n",
    "# Import ros data from CSV file\n",
    "ros_mse = pd.read_csv(f'results/{env_id}/{algo}/mse.csv')\n",
    "ros_norm_err = pd.read_csv(f'results/{env_id}/{algo}/norm_err.csv')\n",
    "print(\"read csv files\")"
   ]
  },
  {
   "cell_type": "code",
   "execution_count": 19,
   "metadata": {},
   "outputs": [
    {
     "name": "stdout",
     "output_type": "stream",
     "text": [
      "calculated averages\n",
      "calculated standard errors\n"
     ]
    }
   ],
   "source": [
    "# Calculate column-wise averages\n",
    "mc_mse_avg = mc_mse.mean(axis=0)\n",
    "mc_norm_avg = mc_norm_err.mean(axis=0)\n",
    "ros_mse_avg = mc_mse.mean(axis=0)\n",
    "ros_norm_avg = mc_norm_err.mean(axis=0)\n",
    "print(\"calculated averages\")\n",
    "\n",
    "# Calculate column-wise standard errors\n",
    "mc_mse_se = mc_mse.sem(axis=0)\n",
    "mc_norm_se = mc_norm_err.sem(axis=0)\n",
    "ros_mse_se = mc_mse.sem(axis=0)\n",
    "ros_norm_se = mc_norm_err.sem(axis=0)\n",
    "print(\"calculated standard errors\")"
   ]
  },
  {
   "cell_type": "code",
   "execution_count": 29,
   "metadata": {},
   "outputs": [
    {
     "name": "stdout",
     "output_type": "stream",
     "text": [
      "plotted mc norm_err\n",
      "plotted ros norm_err\n"
     ]
    },
    {
     "data": {
      "text/plain": [
       "<matplotlib.legend.Legend at 0x7fee30f97f10>"
      ]
     },
     "execution_count": 29,
     "metadata": {},
     "output_type": "execute_result"
    },
    {
     "data": {
      "image/png": "[encoded data removed]",
      "text/plain": [
       "<Figure size 432x288 with 1 Axes>"
      ]
     },
     "metadata": {
      "needs_background": "light"
     },
     "output_type": "display_data"
    }
   ],
   "source": [
    "plt.plot(mc_norm_avg, label='NormErr', color='lightblue')\n",
    "lower_bound = mc_norm_avg - mc_norm_se\n",
    "upper_bound = mc_norm_avg + mc_norm_se\n",
    "# plt.fill_between(range(len(mc_norm_avg)), lower_bound, upper_bound, color='blue', alpha = 0.3)\n",
    "print(\"plotted mc norm_err\")\n",
    "\n",
    "# plt.plot(ros_norm_avg, label='NormErr', color='green')\n",
    "lower_bound = ros_norm_avg - ros_norm_se\n",
    "upper_bound = ros_norm_avg + ros_norm_se\n",
    "# plt.fill_between(range(len(ros_norm_avg)), lower_bound, upper_bound, color='green', alpha = 0.3)\n",
    "print(\"plotted ros norm_err\")\n",
    "plt.yscale('log')\n",
    "plt.xscale('log')\n",
    "plt.xlabel('Iterations')\n",
    "plt.ylabel('Error')\n",
    "plt.title(f'{algo} Error vs Iterations')\n",
    "plt.legend()"
   ]
  },
  {
   "cell_type": "code",
   "execution_count": null,
   "metadata": {},
   "outputs": [],
   "source": []
  }
 ],
 "metadata": {
  "kernelspec": {
   "display_name": "Python 3",
   "language": "python",
   "name": "python3"
  },
  "language_info": {
   "codemirror_mode": {
    "name": "ipython",
    "version": 3
   },
   "file_extension": ".py",
   "mimetype": "text/x-python",
   "name": "python",
   "nbconvert_exporter": "python",
   "pygments_lexer": "ipython3",
   "version": "3.9.7"
  }
 },
 "nbformat": 4,
 "nbformat_minor": 2
}
